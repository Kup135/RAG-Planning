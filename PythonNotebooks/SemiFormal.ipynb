{
 "cells": [
  {
   "cell_type": "markdown",
   "id": "0d7d8187",
   "metadata": {},
   "source": [
    "# Visualizing\n",
    "Inputs: Query, Structured Json"
   ]
  },
  {
   "cell_type": "markdown",
   "id": "11f4c78a",
   "metadata": {},
   "source": [
    "### Setup"
   ]
  },
  {
   "cell_type": "code",
   "execution_count": 40,
   "id": "d8f44c48",
   "metadata": {},
   "outputs": [
    {
     "name": "stdout",
     "output_type": "stream",
     "text": [
      "Defaulting to user installation because normal site-packages is not writeable\n",
      "Requirement already satisfied: anthropic in /Users/adi/Library/Python/3.9/lib/python/site-packages (0.36.2)\n",
      "Requirement already satisfied: anyio<5,>=3.5.0 in /Users/adi/Library/Python/3.9/lib/python/site-packages (from anthropic) (4.3.0)\n",
      "Requirement already satisfied: distro<2,>=1.7.0 in /Users/adi/Library/Python/3.9/lib/python/site-packages (from anthropic) (1.9.0)\n",
      "Requirement already satisfied: httpx<1,>=0.23.0 in /Users/adi/Library/Python/3.9/lib/python/site-packages (from anthropic) (0.27.0)\n",
      "Requirement already satisfied: jiter<1,>=0.4.0 in /Users/adi/Library/Python/3.9/lib/python/site-packages (from anthropic) (0.6.1)\n",
      "Requirement already satisfied: pydantic<3,>=1.9.0 in /Users/adi/Library/Python/3.9/lib/python/site-packages (from anthropic) (2.8.2)\n",
      "Requirement already satisfied: sniffio in /Users/adi/Library/Python/3.9/lib/python/site-packages (from anthropic) (1.3.1)\n",
      "Requirement already satisfied: tokenizers>=0.13.0 in /Users/adi/Library/Python/3.9/lib/python/site-packages (from anthropic) (0.21.0)\n",
      "Requirement already satisfied: typing-extensions<5,>=4.7 in /Users/adi/Library/Python/3.9/lib/python/site-packages (from anthropic) (4.12.2)\n",
      "Requirement already satisfied: idna>=2.8 in /Users/adi/Library/Python/3.9/lib/python/site-packages (from anyio<5,>=3.5.0->anthropic) (3.4)\n",
      "Requirement already satisfied: exceptiongroup>=1.0.2 in /Users/adi/Library/Python/3.9/lib/python/site-packages (from anyio<5,>=3.5.0->anthropic) (1.2.0)\n",
      "Requirement already satisfied: certifi in /Users/adi/Library/Python/3.9/lib/python/site-packages (from httpx<1,>=0.23.0->anthropic) (2023.7.22)\n",
      "Requirement already satisfied: httpcore==1.* in /Users/adi/Library/Python/3.9/lib/python/site-packages (from httpx<1,>=0.23.0->anthropic) (1.0.5)\n",
      "Requirement already satisfied: h11<0.15,>=0.13 in /Users/adi/Library/Python/3.9/lib/python/site-packages (from httpcore==1.*->httpx<1,>=0.23.0->anthropic) (0.14.0)\n",
      "Requirement already satisfied: annotated-types>=0.4.0 in /Users/adi/Library/Python/3.9/lib/python/site-packages (from pydantic<3,>=1.9.0->anthropic) (0.7.0)\n",
      "Requirement already satisfied: pydantic-core==2.20.1 in /Users/adi/Library/Python/3.9/lib/python/site-packages (from pydantic<3,>=1.9.0->anthropic) (2.20.1)\n",
      "Requirement already satisfied: huggingface-hub<1.0,>=0.16.4 in /Users/adi/Library/Python/3.9/lib/python/site-packages (from tokenizers>=0.13.0->anthropic) (0.27.1)\n",
      "Requirement already satisfied: filelock in /Users/adi/Library/Python/3.9/lib/python/site-packages (from huggingface-hub<1.0,>=0.16.4->tokenizers>=0.13.0->anthropic) (3.13.3)\n",
      "Requirement already satisfied: fsspec>=2023.5.0 in /Users/adi/Library/Python/3.9/lib/python/site-packages (from huggingface-hub<1.0,>=0.16.4->tokenizers>=0.13.0->anthropic) (2024.3.1)\n",
      "Requirement already satisfied: packaging>=20.9 in /Users/adi/Library/Python/3.9/lib/python/site-packages (from huggingface-hub<1.0,>=0.16.4->tokenizers>=0.13.0->anthropic) (24.0)\n",
      "Requirement already satisfied: pyyaml>=5.1 in /Users/adi/Library/Python/3.9/lib/python/site-packages (from huggingface-hub<1.0,>=0.16.4->tokenizers>=0.13.0->anthropic) (6.0.1)\n",
      "Requirement already satisfied: requests in /Users/adi/Library/Python/3.9/lib/python/site-packages (from huggingface-hub<1.0,>=0.16.4->tokenizers>=0.13.0->anthropic) (2.32.3)\n",
      "Requirement already satisfied: tqdm>=4.42.1 in /Users/adi/Library/Python/3.9/lib/python/site-packages (from huggingface-hub<1.0,>=0.16.4->tokenizers>=0.13.0->anthropic) (4.67.1)\n",
      "Requirement already satisfied: charset-normalizer<4,>=2 in /Users/adi/Library/Python/3.9/lib/python/site-packages (from requests->huggingface-hub<1.0,>=0.16.4->tokenizers>=0.13.0->anthropic) (3.3.0)\n",
      "Requirement already satisfied: urllib3<3,>=1.21.1 in /Users/adi/Library/Python/3.9/lib/python/site-packages (from requests->huggingface-hub<1.0,>=0.16.4->tokenizers>=0.13.0->anthropic) (1.26.17)\n",
      "\n",
      "\u001b[1m[\u001b[0m\u001b[34;49mnotice\u001b[0m\u001b[1;39;49m]\u001b[0m\u001b[39;49m A new release of pip is available: \u001b[0m\u001b[31;49m25.0.1\u001b[0m\u001b[39;49m -> \u001b[0m\u001b[32;49m25.1.1\u001b[0m\n",
      "\u001b[1m[\u001b[0m\u001b[34;49mnotice\u001b[0m\u001b[1;39;49m]\u001b[0m\u001b[39;49m To update, run: \u001b[0m\u001b[32;49m/Library/Developer/CommandLineTools/usr/bin/python3 -m pip install --upgrade pip\u001b[0m\n",
      "Defaulting to user installation because normal site-packages is not writeable\n",
      "Collecting plotly\n",
      "  Downloading plotly-6.1.2-py3-none-any.whl.metadata (6.9 kB)\n",
      "Collecting narwhals>=1.15.1 (from plotly)\n",
      "  Downloading narwhals-1.41.0-py3-none-any.whl.metadata (11 kB)\n",
      "Requirement already satisfied: packaging in /Users/adi/Library/Python/3.9/lib/python/site-packages (from plotly) (24.0)\n",
      "Downloading plotly-6.1.2-py3-none-any.whl (16.3 MB)\n",
      "\u001b[2K   \u001b[90m━━━━━━━━━━━━━━━━━━━━━━━━━━━━━━━━━━━━━━━━\u001b[0m \u001b[32m16.3/16.3 MB\u001b[0m \u001b[31m17.9 MB/s\u001b[0m eta \u001b[36m0:00:00\u001b[0ma \u001b[36m0:00:01\u001b[0m\n",
      "\u001b[?25hDownloading narwhals-1.41.0-py3-none-any.whl (357 kB)\n",
      "Installing collected packages: narwhals, plotly\n",
      "Successfully installed narwhals-1.41.0 plotly-6.1.2\n",
      "\n",
      "\u001b[1m[\u001b[0m\u001b[34;49mnotice\u001b[0m\u001b[1;39;49m]\u001b[0m\u001b[39;49m A new release of pip is available: \u001b[0m\u001b[31;49m25.0.1\u001b[0m\u001b[39;49m -> \u001b[0m\u001b[32;49m25.1.1\u001b[0m\n",
      "\u001b[1m[\u001b[0m\u001b[34;49mnotice\u001b[0m\u001b[1;39;49m]\u001b[0m\u001b[39;49m To update, run: \u001b[0m\u001b[32;49m/Library/Developer/CommandLineTools/usr/bin/python3 -m pip install --upgrade pip\u001b[0m\n"
     ]
    }
   ],
   "source": [
    "!pip install anthropic\n",
    "!pip install plotly"
   ]
  },
  {
   "cell_type": "code",
   "execution_count": 1,
   "id": "b05e492f",
   "metadata": {},
   "outputs": [],
   "source": [
    "import pandas as pd\n",
    "import json\n",
    "import re\n",
    "import anthropic\n",
    "import os\n",
    "import matplotlib.pyplot as plt\n",
    "import plotly.express as px\n",
    "\n",
    "import openai"
   ]
  },
  {
   "cell_type": "markdown",
   "id": "d1e8f97a",
   "metadata": {},
   "source": [
    "Define API key for Anthropic:"
   ]
  },
  {
   "cell_type": "code",
   "execution_count": 2,
   "id": "eaf0c4be",
   "metadata": {},
   "outputs": [],
   "source": [
    "# fill your key here:\n",
    "# os.environ['ANTHROPIC_API_KEY'] = \"insert_your_anthropic_api_key_here\"\n",
    "\n",
    "# and disable this line here:\n",
    "os.environ['ANTHROPIC_API_KEY'] = os.getenv(\"ANTHROPIC_API_KEY\")\n",
    "\n",
    "client = anthropic.Anthropic(api_key=os.getenv(\"ANTHROPIC_API_KEY\"))"
   ]
  },
  {
   "cell_type": "markdown",
   "id": "9ee5b707",
   "metadata": {},
   "source": [
    "### Define Query + Dataset"
   ]
  },
  {
   "cell_type": "code",
   "execution_count": 3,
   "id": "1f71877a",
   "metadata": {},
   "outputs": [],
   "source": [
    "path_structured = 'GeneratedAnswers/Q2_structured.json'\n",
    "user_query = 'Create a stacked bar chart that shows the count of plans including/not-including detailed instructions, grouped by year'"
   ]
  },
  {
   "cell_type": "markdown",
   "id": "2916bc84",
   "metadata": {},
   "source": [
    "Extract Metadata date of plan:"
   ]
  },
  {
   "cell_type": "code",
   "execution_count": 8,
   "id": "4ae792b9",
   "metadata": {},
   "outputs": [],
   "source": [
    "# Step 1: Load the JSON\n",
    "with open('../metadata/plans_metadata.json', 'r', encoding='utf-8') as f:\n",
    "    metadata = json.load(f)\n",
    "\n",
    "# Step 2: Extract year as a dict of plan_id → year (last 4 digits from \"year\" field)\n",
    "year_data = {}\n",
    "for plan_id, info in metadata.items():\n",
    "    year_str = info.get(\"year\", \"\")\n",
    "    match = re.search(r'20\\d{2}', year_str)  # matches a 4-digit year starting with 20\n",
    "    if match:\n",
    "        year_data[plan_id] = int(match.group(0))\n",
    "    else:\n",
    "        print(f\"No valid year found for plan_id: {plan_id}, raw value: {year_str}\")\n",
    "\n",
    "# Step 3: Convert to DataFrame\n",
    "df_years = pd.DataFrame(list(year_data.items()), columns=[\"plan_id\", \"year\"])\n"
   ]
  },
  {
   "cell_type": "markdown",
   "id": "37a9341d",
   "metadata": {},
   "source": [
    "Load JSON:"
   ]
  },
  {
   "cell_type": "code",
   "execution_count": 9,
   "id": "b25a6b55",
   "metadata": {},
   "outputs": [
    {
     "data": {
      "application/vnd.microsoft.datawrangler.viewer.v0+json": {
       "columns": [
        {
         "name": "index",
         "rawType": "int64",
         "type": "integer"
        },
        {
         "name": "plan_id",
         "rawType": "object",
         "type": "string"
        },
        {
         "name": "contains_detailed_plan_instructions",
         "rawType": "bool",
         "type": "boolean"
        }
       ],
       "ref": "d5c00413-a85a-4708-be5c-a3c455c05b66",
       "rows": [
        [
         "0",
         "507-0668632",
         "True"
        ],
        [
         "1",
         "507-0680413",
         "True"
        ],
        [
         "2",
         "507-0621870",
         "False"
        ],
        [
         "3",
         "507-0609446",
         "True"
        ],
        [
         "4",
         "507-0444091",
         "True"
        ]
       ],
       "shape": {
        "columns": 2,
        "rows": 5
       }
      },
      "text/html": [
       "<div>\n",
       "<style scoped>\n",
       "    .dataframe tbody tr th:only-of-type {\n",
       "        vertical-align: middle;\n",
       "    }\n",
       "\n",
       "    .dataframe tbody tr th {\n",
       "        vertical-align: top;\n",
       "    }\n",
       "\n",
       "    .dataframe thead th {\n",
       "        text-align: right;\n",
       "    }\n",
       "</style>\n",
       "<table border=\"1\" class=\"dataframe\">\n",
       "  <thead>\n",
       "    <tr style=\"text-align: right;\">\n",
       "      <th></th>\n",
       "      <th>plan_id</th>\n",
       "      <th>contains_detailed_plan_instructions</th>\n",
       "    </tr>\n",
       "  </thead>\n",
       "  <tbody>\n",
       "    <tr>\n",
       "      <th>0</th>\n",
       "      <td>507-0668632</td>\n",
       "      <td>True</td>\n",
       "    </tr>\n",
       "    <tr>\n",
       "      <th>1</th>\n",
       "      <td>507-0680413</td>\n",
       "      <td>True</td>\n",
       "    </tr>\n",
       "    <tr>\n",
       "      <th>2</th>\n",
       "      <td>507-0621870</td>\n",
       "      <td>False</td>\n",
       "    </tr>\n",
       "    <tr>\n",
       "      <th>3</th>\n",
       "      <td>507-0609446</td>\n",
       "      <td>True</td>\n",
       "    </tr>\n",
       "    <tr>\n",
       "      <th>4</th>\n",
       "      <td>507-0444091</td>\n",
       "      <td>True</td>\n",
       "    </tr>\n",
       "  </tbody>\n",
       "</table>\n",
       "</div>"
      ],
      "text/plain": [
       "       plan_id  contains_detailed_plan_instructions\n",
       "0  507-0668632                                 True\n",
       "1  507-0680413                                 True\n",
       "2  507-0621870                                False\n",
       "3  507-0609446                                 True\n",
       "4  507-0444091                                 True"
      ]
     },
     "execution_count": 9,
     "metadata": {},
     "output_type": "execute_result"
    }
   ],
   "source": [
    "# Load the structured JSON file\n",
    "with open(path_structured, 'r', encoding='utf-8') as f:\n",
    "    data = json.load(f)\n",
    "\n",
    "# Convert to DataFrame\n",
    "df = pd.DataFrame(data)\n",
    "\n",
    "# Display the first few rows\n",
    "df.head()"
   ]
  },
  {
   "cell_type": "markdown",
   "id": "094496f6",
   "metadata": {},
   "source": [
    "Merge with the metadata:"
   ]
  },
  {
   "cell_type": "code",
   "execution_count": 10,
   "id": "e2e439b8",
   "metadata": {},
   "outputs": [
    {
     "data": {
      "application/vnd.microsoft.datawrangler.viewer.v0+json": {
       "columns": [
        {
         "name": "index",
         "rawType": "int64",
         "type": "integer"
        },
        {
         "name": "plan_id",
         "rawType": "object",
         "type": "string"
        },
        {
         "name": "contains_detailed_plan_instructions",
         "rawType": "bool",
         "type": "boolean"
        },
        {
         "name": "year",
         "rawType": "int64",
         "type": "integer"
        }
       ],
       "ref": "74d2c63e-b660-43f5-9708-120a28b78838",
       "rows": [
        [
         "0",
         "507-0668632",
         "True",
         "2020"
        ],
        [
         "1",
         "507-0680413",
         "True",
         "2020"
        ],
        [
         "2",
         "507-0621870",
         "False",
         "2023"
        ],
        [
         "3",
         "507-0609446",
         "True",
         "2022"
        ],
        [
         "4",
         "507-0444091",
         "True",
         "2017"
        ]
       ],
       "shape": {
        "columns": 3,
        "rows": 5
       }
      },
      "text/html": [
       "<div>\n",
       "<style scoped>\n",
       "    .dataframe tbody tr th:only-of-type {\n",
       "        vertical-align: middle;\n",
       "    }\n",
       "\n",
       "    .dataframe tbody tr th {\n",
       "        vertical-align: top;\n",
       "    }\n",
       "\n",
       "    .dataframe thead th {\n",
       "        text-align: right;\n",
       "    }\n",
       "</style>\n",
       "<table border=\"1\" class=\"dataframe\">\n",
       "  <thead>\n",
       "    <tr style=\"text-align: right;\">\n",
       "      <th></th>\n",
       "      <th>plan_id</th>\n",
       "      <th>contains_detailed_plan_instructions</th>\n",
       "      <th>year</th>\n",
       "    </tr>\n",
       "  </thead>\n",
       "  <tbody>\n",
       "    <tr>\n",
       "      <th>0</th>\n",
       "      <td>507-0668632</td>\n",
       "      <td>True</td>\n",
       "      <td>2020</td>\n",
       "    </tr>\n",
       "    <tr>\n",
       "      <th>1</th>\n",
       "      <td>507-0680413</td>\n",
       "      <td>True</td>\n",
       "      <td>2020</td>\n",
       "    </tr>\n",
       "    <tr>\n",
       "      <th>2</th>\n",
       "      <td>507-0621870</td>\n",
       "      <td>False</td>\n",
       "      <td>2023</td>\n",
       "    </tr>\n",
       "    <tr>\n",
       "      <th>3</th>\n",
       "      <td>507-0609446</td>\n",
       "      <td>True</td>\n",
       "      <td>2022</td>\n",
       "    </tr>\n",
       "    <tr>\n",
       "      <th>4</th>\n",
       "      <td>507-0444091</td>\n",
       "      <td>True</td>\n",
       "      <td>2017</td>\n",
       "    </tr>\n",
       "  </tbody>\n",
       "</table>\n",
       "</div>"
      ],
      "text/plain": [
       "       plan_id  contains_detailed_plan_instructions  year\n",
       "0  507-0668632                                 True  2020\n",
       "1  507-0680413                                 True  2020\n",
       "2  507-0621870                                False  2023\n",
       "3  507-0609446                                 True  2022\n",
       "4  507-0444091                                 True  2017"
      ]
     },
     "execution_count": 10,
     "metadata": {},
     "output_type": "execute_result"
    }
   ],
   "source": [
    "df[\"plan_id\"] = df[\"plan_id\"].astype(str)  # ensure string type for join\n",
    "df = df.merge(df_years, on=\"plan_id\", how=\"left\")\n",
    "\n",
    "# Show the updated df\n",
    "df.head()"
   ]
  },
  {
   "cell_type": "markdown",
   "id": "2d1b071f",
   "metadata": {},
   "source": [
    "## Step 1: Prepare Question \n",
    "\n",
    "Convert the query from free text to a format fitting an LLM"
   ]
  },
  {
   "cell_type": "code",
   "execution_count": 11,
   "id": "5b832182",
   "metadata": {},
   "outputs": [],
   "source": [
    "def prepare_prompt(df, user_query, n_rows_preview=5):\n",
    "    \"\"\"\n",
    "    Prepare a prompt for the GPT API to generate a visualization code.\n",
    "    Includes a preview of the dataset and a user query.\n",
    "    \"\"\"\n",
    "    preview = df.head(n_rows_preview).to_csv(index=False)\n",
    "    prompt = f\"\"\"You are a Python data analysis and visualization specialist.\n",
    "\n",
    "    Here is a preview of the dataset:\n",
    "    {preview}\n",
    "\n",
    "    Task: {user_query}\n",
    "\n",
    "    Please write Python code using plotly.express library, or matplotlib (or seaborn if appropriate) to answer the task with a \n",
    "    corresponding beautiful interactive visualization - answering the described query. \n",
    "    Assume the full dataset is already loaded into a pandas DataFrame variable named `df` outside of the scope of your task at hand. \n",
    "    Do not define/load 'df' in your code. Just focus on the visualization part.\n",
    "    Make sure the code runs without error and shows the plot.\n",
    "\n",
    "    Check the output visualization for outliers and if there are any, use the IQR method to remove them.\n",
    "    For Histograms, use as many bins as possible.\n",
    "\n",
    "    Use a black background and bright pastel colors for the plot (such as #A3BFD9/#BFD8B8/#C4C3D0/#F6B7A9), and white text.\n",
    "\n",
    "    First, organize the data from 'df' in a way that will enable answering the query described in the task,\n",
    "    make use of the preview of the dataset above. Then, create a **clean and interactive** visualization that allows zooming, \n",
    "    hovering, and panning.\n",
    "    \"\"\"\n",
    "        \n",
    "    return prompt\n"
   ]
  },
  {
   "cell_type": "code",
   "execution_count": 12,
   "id": "873fdb86",
   "metadata": {},
   "outputs": [
    {
     "name": "stdout",
     "output_type": "stream",
     "text": [
      "You are a Python data analysis and visualization specialist.\n",
      "\n",
      "    Here is a preview of the dataset:\n",
      "    plan_id,contains_detailed_plan_instructions,year\n",
      "507-0668632,True,2020\n",
      "507-0680413,True,2020\n",
      "507-0621870,False,2023\n",
      "507-0609446,True,2022\n",
      "507-0444091,True,2017\n",
      "\n",
      "\n",
      "    Task: Create a stacked bar chart that shows the count of plans including/not-including detailed instructions, grouped by year\n",
      "\n",
      "    Please write Python code using plotly.express library, or matplotlib (or seaborn if appropriate) to answer the task with a \n",
      "    corresponding beautiful interactive visualization - answering the described query. \n",
      "    Assume the full dataset is already loaded into a pandas DataFrame variable named `df` outside of the scope of your task at hand. \n",
      "    Do not define/load 'df' in your code. Just focus on the visualization part.\n",
      "    Make sure the code runs without error and shows the plot.\n",
      "\n",
      "    Check the output visualization for outliers and if there are any, use the IQR method to remove them.\n",
      "    For Histograms, use as many bins as possible.\n",
      "\n",
      "    Use a black background and bright pastel colors for the plot (such as #A3BFD9/#BFD8B8/#C4C3D0/#F6B7A9), and white text.\n",
      "\n",
      "    First, organize the data from 'df' in a way that will enable answering the query described in the task,\n",
      "    make use of the preview of the dataset above. Then, create a **clean and interactive** visualization that allows zooming, \n",
      "    hovering, and panning.\n",
      "    \n"
     ]
    }
   ],
   "source": [
    "prompt = prepare_prompt(df, user_query, n_rows_preview=5)\n",
    "print(prompt)"
   ]
  },
  {
   "cell_type": "markdown",
   "id": "7a59617d",
   "metadata": {},
   "source": [
    "## Step 2: Send to Claude"
   ]
  },
  {
   "cell_type": "code",
   "execution_count": 369,
   "id": "1eebaccb",
   "metadata": {},
   "outputs": [],
   "source": [
    "def call_claude(prompt, model=\"claude-3-haiku-20240307\"):\n",
    "    response = client.messages.create(\n",
    "        model=model,\n",
    "        max_tokens=1024,\n",
    "        temperature=0.3,\n",
    "        messages=[\n",
    "            {\"role\": \"user\", \"content\": prompt}\n",
    "        ]\n",
    "    )\n",
    "    return response.content[0].text  # Returns the first text block"
   ]
  },
  {
   "cell_type": "code",
   "execution_count": 411,
   "id": "1f3c6fa4",
   "metadata": {},
   "outputs": [],
   "source": [
    "responseRaw = call_claude(prompt)"
   ]
  },
  {
   "cell_type": "code",
   "execution_count": 372,
   "id": "9b6c511d",
   "metadata": {},
   "outputs": [
    {
     "name": "stdout",
     "output_type": "stream",
     "text": [
      "Sure, here's the Python code using Plotly Express to create a boxplot of the area values across the entire set of plans over the course of the years, with the requested customizations:\n",
      "\n",
      "```python\n",
      "import pandas as pd\n",
      "import plotly.express as px\n",
      "\n",
      "# Assuming the dataset is already loaded into a pandas DataFrame called 'df'\n",
      "df = pd.DataFrame({\n",
      "    'plan_id': ['507-0444091', '507-0595439', '507-0322842', '507-0892091', '507-0609180'],\n",
      "    'area_dunams': [3.777, 27.221, 30.357, 19.705, 6.278],\n",
      "    'year': [2017, 2024, 2021, 2024, 2019]\n",
      "})\n",
      "\n",
      "# Create the boxplot\n",
      "fig = px.box(df, x='year', y='area_dunams', color='year', \n",
      "             title='Area Values Across Plans Over the Years',\n",
      "             template='plotly_dark', color_discrete_sequence=['#A3BFD9', '#BFD8B8', '#C4C3D0', '#F6B7A9'])\n",
      "\n",
      "# Customize the plot\n",
      "fig.update_layout(\n",
      "    plot_bgcolor='black',\n",
      "    paper_bgcolor='black',\n",
      "    font_color='white',\n",
      "    xaxis_title='Year',\n",
      "    yaxis_title='Area (dunams)',\n",
      "    xaxis_tickangle=-45,\n",
      "    margin=dict(t=50, b=50, l=50, r=50)\n",
      ")\n",
      "\n",
      "# Check for outliers and remove them using the IQR method\n",
      "q1 = df['area_dunams'].quantile(0.25)\n",
      "q3 = df['area_dunams'].quantile(0.75)\n",
      "iqr = q3 - q1\n",
      "lower_bound = q1 - 1.5 * iqr\n",
      "upper_bound = q3 + 1.5 * iqr\n",
      "df = df[(df['area_dunams'] >= lower_bound) & (df['area_dunams'] <= upper_bound)]\n",
      "\n",
      "# Update the plot with the cleaned data\n",
      "fig = px.box(df, x='year', y='area_dunams', color='year',\n",
      "             title='Area Values Across Plans Over the Years',\n",
      "             template='plotly_dark', color_discrete_sequence=['#A3BFD9', '#BFD8B8', '#C4C3D0', '#F6B7A9'])\n",
      "\n",
      "fig.update_layout(\n",
      "    plot_bgcolor='black',\n",
      "    paper_bgcolor='black',\n",
      "    font_color='white',\n",
      "    xaxis_title='Year',\n",
      "    yaxis_title='Area (dunams)',\n",
      "    xaxis_tickangle=-45,\n",
      "    margin=dict(t=50, b=50, l=50, r=50)\n",
      ")\n",
      "\n",
      "fig.show()\n",
      "```\n",
      "\n",
      "This code will create an interactive boxplot using Plotly Express, with the following features:\n",
      "\n",
      "1. The data is organized in a way that enables answering the query described in the task, using the preview of the dataset provided.\n",
      "2. The plot has a black background and uses bright pastel colors for the boxes, as requested.\n",
      "3. The text on the plot is in white.\n",
      "4. The plot is clean and interactive, allowing for zooming, hovering, and panning.\n",
      "5. The code checks for outliers using the IQR method and removes them from the data before updating the plot.\n",
      "\n",
      "The resulting plot will show the distribution of area values across the different years, with the outliers removed. You can interact with the plot to explore the data further.\n"
     ]
    }
   ],
   "source": [
    "print(responseRaw)"
   ]
  },
  {
   "cell_type": "markdown",
   "id": "866840ff",
   "metadata": {},
   "source": [
    "## Step 3: Run Code"
   ]
  },
  {
   "cell_type": "markdown",
   "id": "2a8663ee",
   "metadata": {},
   "source": [
    "Parse it first:"
   ]
  },
  {
   "cell_type": "code",
   "execution_count": 366,
   "id": "b51e2ea5",
   "metadata": {},
   "outputs": [],
   "source": [
    "def extract_code_block(text):\n",
    "    \"\"\"\n",
    "    Extract the first Python code block (```python ... ```) from a string.\n",
    "    \"\"\"\n",
    "    match = re.search(r\"```(?:python)?\\n(.*?)```\", text, re.DOTALL)\n",
    "    if match:\n",
    "        return match.group(1)\n",
    "    else:\n",
    "        print(\"⚠️ No code block found.\")\n",
    "        return None\n"
   ]
  },
  {
   "cell_type": "code",
   "execution_count": 412,
   "id": "a45765a7",
   "metadata": {},
   "outputs": [
    {
     "data": {
      "application/vnd.plotly.v1+json": {
       "config": {
        "plotlyServerURL": "https://plot.ly"
       },
       "data": [
        {
         "hovertemplate": "Detailed Instructions=False<br>Year=%{x}<br>Count=%{y}<extra></extra>",
         "legendgroup": "False",
         "marker": {
          "color": "#00cc96",
          "pattern": {
           "shape": ""
          }
         },
         "name": "False",
         "orientation": "v",
         "showlegend": true,
         "textposition": "auto",
         "type": "bar",
         "x": {
          "bdata": "3gfhB+MH5AflB+cH",
          "dtype": "i2"
         },
         "xaxis": "x",
         "y": {
          "bdata": "AQMCBQEB",
          "dtype": "i1"
         },
         "yaxis": "y"
        },
        {
         "hovertemplate": "Detailed Instructions=True<br>Year=%{x}<br>Count=%{y}<extra></extra>",
         "legendgroup": "True",
         "marker": {
          "color": "#ab63fa",
          "pattern": {
           "shape": ""
          }
         },
         "name": "True",
         "orientation": "v",
         "showlegend": true,
         "textposition": "auto",
         "type": "bar",
         "x": {
          "bdata": "3gffB+AH4QfiB+MH5AflB+YH5wfoB+kH",
          "dtype": "i2"
         },
         "xaxis": "x",
         "y": {
          "bdata": "BAcKCQwSCwkPEhEB",
          "dtype": "i1"
         },
         "yaxis": "y"
        }
       ],
       "layout": {
        "barmode": "stack",
        "font": {
         "color": "white"
        },
        "legend": {
         "title": {
          "font": {
           "color": "white"
          },
          "text": "Detailed Instructions"
         },
         "tracegroupgap": 0
        },
        "paper_bgcolor": "black",
        "plot_bgcolor": "black",
        "template": {
         "data": {
          "bar": [
           {
            "error_x": {
             "color": "#f2f5fa"
            },
            "error_y": {
             "color": "#f2f5fa"
            },
            "marker": {
             "line": {
              "color": "rgb(17,17,17)",
              "width": 0.5
             },
             "pattern": {
              "fillmode": "overlay",
              "size": 10,
              "solidity": 0.2
             }
            },
            "type": "bar"
           }
          ],
          "barpolar": [
           {
            "marker": {
             "line": {
              "color": "rgb(17,17,17)",
              "width": 0.5
             },
             "pattern": {
              "fillmode": "overlay",
              "size": 10,
              "solidity": 0.2
             }
            },
            "type": "barpolar"
           }
          ],
          "carpet": [
           {
            "aaxis": {
             "endlinecolor": "#A2B1C6",
             "gridcolor": "#506784",
             "linecolor": "#506784",
             "minorgridcolor": "#506784",
             "startlinecolor": "#A2B1C6"
            },
            "baxis": {
             "endlinecolor": "#A2B1C6",
             "gridcolor": "#506784",
             "linecolor": "#506784",
             "minorgridcolor": "#506784",
             "startlinecolor": "#A2B1C6"
            },
            "type": "carpet"
           }
          ],
          "choropleth": [
           {
            "colorbar": {
             "outlinewidth": 0,
             "ticks": ""
            },
            "type": "choropleth"
           }
          ],
          "contour": [
           {
            "colorbar": {
             "outlinewidth": 0,
             "ticks": ""
            },
            "colorscale": [
             [
              0,
              "#0d0887"
             ],
             [
              0.1111111111111111,
              "#46039f"
             ],
             [
              0.2222222222222222,
              "#7201a8"
             ],
             [
              0.3333333333333333,
              "#9c179e"
             ],
             [
              0.4444444444444444,
              "#bd3786"
             ],
             [
              0.5555555555555556,
              "#d8576b"
             ],
             [
              0.6666666666666666,
              "#ed7953"
             ],
             [
              0.7777777777777778,
              "#fb9f3a"
             ],
             [
              0.8888888888888888,
              "#fdca26"
             ],
             [
              1,
              "#f0f921"
             ]
            ],
            "type": "contour"
           }
          ],
          "contourcarpet": [
           {
            "colorbar": {
             "outlinewidth": 0,
             "ticks": ""
            },
            "type": "contourcarpet"
           }
          ],
          "heatmap": [
           {
            "colorbar": {
             "outlinewidth": 0,
             "ticks": ""
            },
            "colorscale": [
             [
              0,
              "#0d0887"
             ],
             [
              0.1111111111111111,
              "#46039f"
             ],
             [
              0.2222222222222222,
              "#7201a8"
             ],
             [
              0.3333333333333333,
              "#9c179e"
             ],
             [
              0.4444444444444444,
              "#bd3786"
             ],
             [
              0.5555555555555556,
              "#d8576b"
             ],
             [
              0.6666666666666666,
              "#ed7953"
             ],
             [
              0.7777777777777778,
              "#fb9f3a"
             ],
             [
              0.8888888888888888,
              "#fdca26"
             ],
             [
              1,
              "#f0f921"
             ]
            ],
            "type": "heatmap"
           }
          ],
          "histogram": [
           {
            "marker": {
             "pattern": {
              "fillmode": "overlay",
              "size": 10,
              "solidity": 0.2
             }
            },
            "type": "histogram"
           }
          ],
          "histogram2d": [
           {
            "colorbar": {
             "outlinewidth": 0,
             "ticks": ""
            },
            "colorscale": [
             [
              0,
              "#0d0887"
             ],
             [
              0.1111111111111111,
              "#46039f"
             ],
             [
              0.2222222222222222,
              "#7201a8"
             ],
             [
              0.3333333333333333,
              "#9c179e"
             ],
             [
              0.4444444444444444,
              "#bd3786"
             ],
             [
              0.5555555555555556,
              "#d8576b"
             ],
             [
              0.6666666666666666,
              "#ed7953"
             ],
             [
              0.7777777777777778,
              "#fb9f3a"
             ],
             [
              0.8888888888888888,
              "#fdca26"
             ],
             [
              1,
              "#f0f921"
             ]
            ],
            "type": "histogram2d"
           }
          ],
          "histogram2dcontour": [
           {
            "colorbar": {
             "outlinewidth": 0,
             "ticks": ""
            },
            "colorscale": [
             [
              0,
              "#0d0887"
             ],
             [
              0.1111111111111111,
              "#46039f"
             ],
             [
              0.2222222222222222,
              "#7201a8"
             ],
             [
              0.3333333333333333,
              "#9c179e"
             ],
             [
              0.4444444444444444,
              "#bd3786"
             ],
             [
              0.5555555555555556,
              "#d8576b"
             ],
             [
              0.6666666666666666,
              "#ed7953"
             ],
             [
              0.7777777777777778,
              "#fb9f3a"
             ],
             [
              0.8888888888888888,
              "#fdca26"
             ],
             [
              1,
              "#f0f921"
             ]
            ],
            "type": "histogram2dcontour"
           }
          ],
          "mesh3d": [
           {
            "colorbar": {
             "outlinewidth": 0,
             "ticks": ""
            },
            "type": "mesh3d"
           }
          ],
          "parcoords": [
           {
            "line": {
             "colorbar": {
              "outlinewidth": 0,
              "ticks": ""
             }
            },
            "type": "parcoords"
           }
          ],
          "pie": [
           {
            "automargin": true,
            "type": "pie"
           }
          ],
          "scatter": [
           {
            "marker": {
             "line": {
              "color": "#283442"
             }
            },
            "type": "scatter"
           }
          ],
          "scatter3d": [
           {
            "line": {
             "colorbar": {
              "outlinewidth": 0,
              "ticks": ""
             }
            },
            "marker": {
             "colorbar": {
              "outlinewidth": 0,
              "ticks": ""
             }
            },
            "type": "scatter3d"
           }
          ],
          "scattercarpet": [
           {
            "marker": {
             "colorbar": {
              "outlinewidth": 0,
              "ticks": ""
             }
            },
            "type": "scattercarpet"
           }
          ],
          "scattergeo": [
           {
            "marker": {
             "colorbar": {
              "outlinewidth": 0,
              "ticks": ""
             }
            },
            "type": "scattergeo"
           }
          ],
          "scattergl": [
           {
            "marker": {
             "line": {
              "color": "#283442"
             }
            },
            "type": "scattergl"
           }
          ],
          "scattermap": [
           {
            "marker": {
             "colorbar": {
              "outlinewidth": 0,
              "ticks": ""
             }
            },
            "type": "scattermap"
           }
          ],
          "scattermapbox": [
           {
            "marker": {
             "colorbar": {
              "outlinewidth": 0,
              "ticks": ""
             }
            },
            "type": "scattermapbox"
           }
          ],
          "scatterpolar": [
           {
            "marker": {
             "colorbar": {
              "outlinewidth": 0,
              "ticks": ""
             }
            },
            "type": "scatterpolar"
           }
          ],
          "scatterpolargl": [
           {
            "marker": {
             "colorbar": {
              "outlinewidth": 0,
              "ticks": ""
             }
            },
            "type": "scatterpolargl"
           }
          ],
          "scatterternary": [
           {
            "marker": {
             "colorbar": {
              "outlinewidth": 0,
              "ticks": ""
             }
            },
            "type": "scatterternary"
           }
          ],
          "surface": [
           {
            "colorbar": {
             "outlinewidth": 0,
             "ticks": ""
            },
            "colorscale": [
             [
              0,
              "#0d0887"
             ],
             [
              0.1111111111111111,
              "#46039f"
             ],
             [
              0.2222222222222222,
              "#7201a8"
             ],
             [
              0.3333333333333333,
              "#9c179e"
             ],
             [
              0.4444444444444444,
              "#bd3786"
             ],
             [
              0.5555555555555556,
              "#d8576b"
             ],
             [
              0.6666666666666666,
              "#ed7953"
             ],
             [
              0.7777777777777778,
              "#fb9f3a"
             ],
             [
              0.8888888888888888,
              "#fdca26"
             ],
             [
              1,
              "#f0f921"
             ]
            ],
            "type": "surface"
           }
          ],
          "table": [
           {
            "cells": {
             "fill": {
              "color": "#506784"
             },
             "line": {
              "color": "rgb(17,17,17)"
             }
            },
            "header": {
             "fill": {
              "color": "#2a3f5f"
             },
             "line": {
              "color": "rgb(17,17,17)"
             }
            },
            "type": "table"
           }
          ]
         },
         "layout": {
          "annotationdefaults": {
           "arrowcolor": "#f2f5fa",
           "arrowhead": 0,
           "arrowwidth": 1
          },
          "autotypenumbers": "strict",
          "coloraxis": {
           "colorbar": {
            "outlinewidth": 0,
            "ticks": ""
           }
          },
          "colorscale": {
           "diverging": [
            [
             0,
             "#8e0152"
            ],
            [
             0.1,
             "#c51b7d"
            ],
            [
             0.2,
             "#de77ae"
            ],
            [
             0.3,
             "#f1b6da"
            ],
            [
             0.4,
             "#fde0ef"
            ],
            [
             0.5,
             "#f7f7f7"
            ],
            [
             0.6,
             "#e6f5d0"
            ],
            [
             0.7,
             "#b8e186"
            ],
            [
             0.8,
             "#7fbc41"
            ],
            [
             0.9,
             "#4d9221"
            ],
            [
             1,
             "#276419"
            ]
           ],
           "sequential": [
            [
             0,
             "#0d0887"
            ],
            [
             0.1111111111111111,
             "#46039f"
            ],
            [
             0.2222222222222222,
             "#7201a8"
            ],
            [
             0.3333333333333333,
             "#9c179e"
            ],
            [
             0.4444444444444444,
             "#bd3786"
            ],
            [
             0.5555555555555556,
             "#d8576b"
            ],
            [
             0.6666666666666666,
             "#ed7953"
            ],
            [
             0.7777777777777778,
             "#fb9f3a"
            ],
            [
             0.8888888888888888,
             "#fdca26"
            ],
            [
             1,
             "#f0f921"
            ]
           ],
           "sequentialminus": [
            [
             0,
             "#0d0887"
            ],
            [
             0.1111111111111111,
             "#46039f"
            ],
            [
             0.2222222222222222,
             "#7201a8"
            ],
            [
             0.3333333333333333,
             "#9c179e"
            ],
            [
             0.4444444444444444,
             "#bd3786"
            ],
            [
             0.5555555555555556,
             "#d8576b"
            ],
            [
             0.6666666666666666,
             "#ed7953"
            ],
            [
             0.7777777777777778,
             "#fb9f3a"
            ],
            [
             0.8888888888888888,
             "#fdca26"
            ],
            [
             1,
             "#f0f921"
            ]
           ]
          },
          "colorway": [
           "#636efa",
           "#EF553B",
           "#00cc96",
           "#ab63fa",
           "#FFA15A",
           "#19d3f3",
           "#FF6692",
           "#B6E880",
           "#FF97FF",
           "#FECB52"
          ],
          "font": {
           "color": "#f2f5fa"
          },
          "geo": {
           "bgcolor": "rgb(17,17,17)",
           "lakecolor": "rgb(17,17,17)",
           "landcolor": "rgb(17,17,17)",
           "showlakes": true,
           "showland": true,
           "subunitcolor": "#506784"
          },
          "hoverlabel": {
           "align": "left"
          },
          "hovermode": "closest",
          "mapbox": {
           "style": "dark"
          },
          "paper_bgcolor": "rgb(17,17,17)",
          "plot_bgcolor": "rgb(17,17,17)",
          "polar": {
           "angularaxis": {
            "gridcolor": "#506784",
            "linecolor": "#506784",
            "ticks": ""
           },
           "bgcolor": "rgb(17,17,17)",
           "radialaxis": {
            "gridcolor": "#506784",
            "linecolor": "#506784",
            "ticks": ""
           }
          },
          "scene": {
           "xaxis": {
            "backgroundcolor": "rgb(17,17,17)",
            "gridcolor": "#506784",
            "gridwidth": 2,
            "linecolor": "#506784",
            "showbackground": true,
            "ticks": "",
            "zerolinecolor": "#C8D4E3"
           },
           "yaxis": {
            "backgroundcolor": "rgb(17,17,17)",
            "gridcolor": "#506784",
            "gridwidth": 2,
            "linecolor": "#506784",
            "showbackground": true,
            "ticks": "",
            "zerolinecolor": "#C8D4E3"
           },
           "zaxis": {
            "backgroundcolor": "rgb(17,17,17)",
            "gridcolor": "#506784",
            "gridwidth": 2,
            "linecolor": "#506784",
            "showbackground": true,
            "ticks": "",
            "zerolinecolor": "#C8D4E3"
           }
          },
          "shapedefaults": {
           "line": {
            "color": "#f2f5fa"
           }
          },
          "sliderdefaults": {
           "bgcolor": "#C8D4E3",
           "bordercolor": "rgb(17,17,17)",
           "borderwidth": 1,
           "tickwidth": 0
          },
          "ternary": {
           "aaxis": {
            "gridcolor": "#506784",
            "linecolor": "#506784",
            "ticks": ""
           },
           "baxis": {
            "gridcolor": "#506784",
            "linecolor": "#506784",
            "ticks": ""
           },
           "bgcolor": "rgb(17,17,17)",
           "caxis": {
            "gridcolor": "#506784",
            "linecolor": "#506784",
            "ticks": ""
           }
          },
          "title": {
           "x": 0.05
          },
          "updatemenudefaults": {
           "bgcolor": "#506784",
           "borderwidth": 0
          },
          "xaxis": {
           "automargin": true,
           "gridcolor": "#283442",
           "linecolor": "#506784",
           "ticks": "",
           "title": {
            "standoff": 15
           },
           "zerolinecolor": "#283442",
           "zerolinewidth": 2
          },
          "yaxis": {
           "automargin": true,
           "gridcolor": "#283442",
           "linecolor": "#506784",
           "ticks": "",
           "title": {
            "standoff": 15
           },
           "zerolinecolor": "#283442",
           "zerolinewidth": 2
          }
         }
        },
        "title": {
         "font": {
          "color": "white"
         },
         "text": "Count of Plans with/without Detailed Instructions by Year"
        },
        "xaxis": {
         "anchor": "y",
         "domain": [
          0,
          1
         ],
         "title": {
          "font": {
           "color": "white"
          },
          "text": "Year"
         }
        },
        "yaxis": {
         "anchor": "x",
         "domain": [
          0,
          1
         ],
         "title": {
          "font": {
           "color": "white"
          },
          "text": "Count"
         }
        }
       }
      }
     },
     "metadata": {},
     "output_type": "display_data"
    }
   ],
   "source": [
    "code = extract_code_block(responseRaw)\n",
    "\n",
    "if code:\n",
    "    # Define the environment the code should run in (e.g., with access to `df`)\n",
    "    local_env = {\"df\": df, \"plt\": plt, \"pd\": pd}\n",
    "\n",
    "    try:\n",
    "        exec(code, {}, local_env)\n",
    "    except Exception as e:\n",
    "        print(f\"❌ Error while executing code:\\n{e}\")\n"
   ]
  }
 ],
 "metadata": {
  "kernelspec": {
   "display_name": "Python 3",
   "language": "python",
   "name": "python3"
  },
  "language_info": {
   "codemirror_mode": {
    "name": "ipython",
    "version": 3
   },
   "file_extension": ".py",
   "mimetype": "text/x-python",
   "name": "python",
   "nbconvert_exporter": "python",
   "pygments_lexer": "ipython3",
   "version": "3.9.6"
  }
 },
 "nbformat": 4,
 "nbformat_minor": 5
}
